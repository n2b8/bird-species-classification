{
 "cells": [
  {
   "cell_type": "markdown",
   "id": "0ffa87af-df4d-4802-979c-319fa3250caa",
   "metadata": {},
   "source": [
    "### Business Problem"
   ]
  },
  {
   "cell_type": "code",
   "execution_count": null,
   "id": "5aed438f-0bc1-48fc-9002-33933160e008",
   "metadata": {},
   "outputs": [],
   "source": []
  },
  {
   "cell_type": "markdown",
   "id": "9493ba12-2b75-4911-b159-90218ca1d2fe",
   "metadata": {},
   "source": [
    "### Data Understanding"
   ]
  },
  {
   "cell_type": "code",
   "execution_count": null,
   "id": "5cb68d75-65d7-4de8-9d61-fd9f108f0601",
   "metadata": {},
   "outputs": [],
   "source": []
  },
  {
   "cell_type": "markdown",
   "id": "6f7bf265-d187-47f8-9bd8-6d21ec90530d",
   "metadata": {},
   "source": [
    "### Data Prep/Cleaning"
   ]
  },
  {
   "cell_type": "code",
   "execution_count": null,
   "id": "881fa0b2-56d3-4b56-9484-7fea9759727a",
   "metadata": {},
   "outputs": [],
   "source": []
  },
  {
   "cell_type": "markdown",
   "id": "a1e6a1ba-ff59-44fd-aaa1-6edd75e172ca",
   "metadata": {},
   "source": [
    "### Modeling"
   ]
  },
  {
   "cell_type": "code",
   "execution_count": null,
   "id": "82b39bbc-d485-4705-9a7d-1ee9151c60c1",
   "metadata": {},
   "outputs": [],
   "source": []
  },
  {
   "cell_type": "markdown",
   "id": "6bd02624-0cae-4989-8fda-bb8dae84eea3",
   "metadata": {},
   "source": [
    "### Evaluation/Interpretability"
   ]
  },
  {
   "cell_type": "code",
   "execution_count": null,
   "id": "fa2e2483-2947-4ddd-a7c5-63fe8243679f",
   "metadata": {},
   "outputs": [],
   "source": []
  },
  {
   "cell_type": "markdown",
   "id": "8dbd727f-194c-4dc7-a6ae-9a834e135028",
   "metadata": {},
   "source": [
    "### Deployment"
   ]
  },
  {
   "cell_type": "code",
   "execution_count": null,
   "id": "e65ee124-c46b-4179-8c6e-1edf55fd7bb4",
   "metadata": {},
   "outputs": [],
   "source": []
  }
 ],
 "metadata": {
  "kernelspec": {
   "display_name": "Python (learn-env)",
   "language": "python",
   "name": "learn-env"
  },
  "language_info": {
   "codemirror_mode": {
    "name": "ipython",
    "version": 3
   },
   "file_extension": ".py",
   "mimetype": "text/x-python",
   "name": "python",
   "nbconvert_exporter": "python",
   "pygments_lexer": "ipython3",
   "version": "3.9.19"
  }
 },
 "nbformat": 4,
 "nbformat_minor": 5
}
