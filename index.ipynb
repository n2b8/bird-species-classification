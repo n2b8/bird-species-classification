{
 "cells": [
  {
   "cell_type": "markdown",
   "id": "0ffa87af-df4d-4802-979c-319fa3250caa",
   "metadata": {},
   "source": [
    "# Backyard Bird Classifier\n",
    "\n",
    "## 1. Business Understanding\n",
    "\n",
    "Project FeederWatch, operated by the Cornell Lab of Ornithology and Birds Canada, is a community science program that encourages individuals across North America to monitor and report bird species visiting their feeders. The project has been running since 1987 and provides a valuable long-term dataset to scientists studying the distribution, abundance, and migration patterns of wintering bird species.\n",
    "\n",
    "Participants submit bird counts from their homes, nature centers, schools, or community spaces using a flexible schedule between November and April. These data have been used in numerous scientific studies, revealing trends in species ranges, population shifts, and feeder use. However, because observations are made by people of all skill levels—many of them amateur birders—identification errors are common. This introduces noise into the dataset, potentially obscuring long-term trends and biological signals.\n",
    "\n",
    "To mitigate this limitation, this project proposes a computer vision approach to improve the consistency and accuracy of bird species identification from images. By training a machine learning model to classify feeder birds, we can provide an automated or semi-automated tool to assist human observers and validate their reports.\n",
    "\n",
    "Cornell’s NABirds dataset contains over 48,000 annotated images of 555 bird species commonly observed in North America. This project will subset that dataset using Cornell’s list of the 100 most common feeder birds and train a deep learning model to recognize them from photographs. The long-term goal is to support systems that can automatically identify feeder birds from camera traps or assist FeederWatch participants in double-checking their own identifications.\n",
    "\n",
    "### Objective\n",
    "\n",
    "Build and evaluate an image classification model that can:\n",
    "\n",
    "- Automatically identify bird species from a curated list of the 100 most common feeder birds\n",
    "- Achieve greater than 80% overall classification accuracy\n",
    "- Provide per-class metrics such as precision, recall, and F1-score to assess individual species performance\n",
    "- Incorporate interpretability tools (e.g., LIME and Grad-CAM) to explain model predictions\n",
    "- Be exportable to lightweight formats (e.g., ONNX) for deployment on edge devices like the Raspberry Pi\n",
    "\n",
    "### Data Sources\n",
    "\n",
    "- NABirds Dataset: [https://dl.allaboutbirds.org/nabirds](https://dl.allaboutbirds.org/nabirds)\n",
    "- FeederWatch Program: [https://feederwatch.org](https://feederwatch.org)\n",
    "- 100 Common Feeder Birds: [https://feederwatch.org/learn/common-feeder-birds/](https://feederwatch.org/learn/common-feeder-birds/)"
   ]
  },
  {
   "cell_type": "markdown",
   "id": "9493ba12-2b75-4911-b159-90218ca1d2fe",
   "metadata": {},
   "source": [
    "### Data Understanding\n",
    "\n",
    "#### Dataset Access\n",
    "\n",
    "This notebook uses a public subset of the NABirds dataset hosted on Kaggle:\n",
    "\n",
    "**Dataset:** [Backyard Feeder Birds (NABirds Subset)](https://www.kaggle.com/datasets/jakemccaig/backyard-feeder-birds-nabirds-subset)  \n",
    "**Owner:** [jakemccaig](https://www.kaggle.com/jakemccaig)  \n",
    "**Structure:** ImageNet-style `train/`, `val/`, and `class_labels.txt`\n"
   ]
  },
  {
   "cell_type": "code",
   "execution_count": 1,
   "id": "5aed438f-0bc1-48fc-9002-33933160e008",
   "metadata": {},
   "outputs": [],
   "source": [
    "import os\n",
    "import pandas as pd\n",
    "import matplotlib.pyplot as plt\n",
    "import seaborn as sns"
   ]
  },
  {
   "cell_type": "code",
   "execution_count": null,
   "id": "5cb68d75-65d7-4de8-9d61-fd9f108f0601",
   "metadata": {},
   "outputs": [],
   "source": []
  },
  {
   "cell_type": "markdown",
   "id": "6f7bf265-d187-47f8-9bd8-6d21ec90530d",
   "metadata": {},
   "source": [
    "### Data Prep/Cleaning"
   ]
  },
  {
   "cell_type": "code",
   "execution_count": null,
   "id": "881fa0b2-56d3-4b56-9484-7fea9759727a",
   "metadata": {},
   "outputs": [],
   "source": []
  },
  {
   "cell_type": "markdown",
   "id": "a1e6a1ba-ff59-44fd-aaa1-6edd75e172ca",
   "metadata": {},
   "source": [
    "### Modeling"
   ]
  },
  {
   "cell_type": "code",
   "execution_count": null,
   "id": "82b39bbc-d485-4705-9a7d-1ee9151c60c1",
   "metadata": {},
   "outputs": [],
   "source": []
  },
  {
   "cell_type": "markdown",
   "id": "6bd02624-0cae-4989-8fda-bb8dae84eea3",
   "metadata": {},
   "source": [
    "### Evaluation/Interpretability"
   ]
  },
  {
   "cell_type": "code",
   "execution_count": null,
   "id": "fa2e2483-2947-4ddd-a7c5-63fe8243679f",
   "metadata": {},
   "outputs": [],
   "source": []
  },
  {
   "cell_type": "markdown",
   "id": "8dbd727f-194c-4dc7-a6ae-9a834e135028",
   "metadata": {},
   "source": [
    "### Deployment"
   ]
  },
  {
   "cell_type": "code",
   "execution_count": null,
   "id": "e65ee124-c46b-4179-8c6e-1edf55fd7bb4",
   "metadata": {},
   "outputs": [],
   "source": []
  }
 ],
 "metadata": {
  "kernelspec": {
   "display_name": "Python (learn-env)",
   "language": "python",
   "name": "learn-env"
  },
  "language_info": {
   "codemirror_mode": {
    "name": "ipython",
    "version": 3
   },
   "file_extension": ".py",
   "mimetype": "text/x-python",
   "name": "python",
   "nbconvert_exporter": "python",
   "pygments_lexer": "ipython3",
   "version": "3.9.19"
  }
 },
 "nbformat": 4,
 "nbformat_minor": 5
}
